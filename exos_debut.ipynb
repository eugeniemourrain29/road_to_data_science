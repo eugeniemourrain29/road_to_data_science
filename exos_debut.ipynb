{
 "cells": [
  {
   "cell_type": "code",
   "execution_count": 19,
   "id": "599869bd-a06b-467d-91eb-468952d2459d",
   "metadata": {},
   "outputs": [],
   "source": [
    "import pandas as pd"
   ]
  },
  {
   "cell_type": "code",
   "execution_count": 24,
   "id": "a7b3e3a2-3f46-4f16-a162-74cfe7784935",
   "metadata": {},
   "outputs": [],
   "source": [
    "def sign(x):\n",
    "    if (x>0):\n",
    "        print(x,'positif')\n",
    "    elif x == 0:\n",
    "        print(x,'null')\n",
    "    else:\n",
    "        print(x,'negetif')"
   ]
  },
  {
   "cell_type": "code",
   "execution_count": 25,
   "id": "2ea9e3bd-4bcf-40f1-937f-9f2a7a9d162a",
   "metadata": {},
   "outputs": [
    {
     "name": "stdout",
     "output_type": "stream",
     "text": [
      "10 positif\n",
      "9 positif\n",
      "8 positif\n",
      "7 positif\n",
      "6 positif\n",
      "5 positif\n",
      "4 positif\n",
      "3 positif\n",
      "2 positif\n",
      "1 positif\n",
      "0 null\n",
      "-1 negetif\n",
      "-2 negetif\n",
      "-3 negetif\n",
      "-4 negetif\n",
      "-5 negetif\n",
      "-6 negetif\n",
      "-7 negetif\n",
      "-8 negetif\n",
      "-9 negetif\n"
     ]
    }
   ],
   "source": [
    "for i in range (10,-10,-1):\n",
    "    sign(i)"
   ]
  },
  {
   "cell_type": "code",
   "execution_count": 26,
   "id": "b7a08055-c503-4831-beb1-c8c9c103964d",
   "metadata": {},
   "outputs": [
    {
     "name": "stdout",
     "output_type": "stream",
     "text": [
      "0\n",
      "1\n",
      "2\n",
      "3\n",
      "4\n",
      "5\n",
      "6\n",
      "7\n",
      "8\n",
      "9\n"
     ]
    }
   ],
   "source": [
    "x=0\n",
    "while x<10:\n",
    "    print(x)\n",
    "    x+=1"
   ]
  },
  {
   "cell_type": "code",
   "execution_count": 29,
   "id": "ebf5d4d9-a1a3-4c45-86a6-2689762b60b3",
   "metadata": {},
   "outputs": [],
   "source": [
    "def e_potentielle_limite(masse,hauteur,limite,g=9.81):\n",
    "    E= masse* hauteur* g\n",
    "    print(E)\n",
    "    return E<limite"
   ]
  },
  {
   "cell_type": "code",
   "execution_count": null,
   "id": "17aa6a23-b816-4f3d-88e5-acb234c01852",
   "metadata": {},
   "outputs": [],
   "source": []
  },
  {
   "cell_type": "code",
   "execution_count": 30,
   "id": "0b3cafd1-fb5a-4962-aef4-80cb85ebb296",
   "metadata": {},
   "outputs": [
    {
     "name": "stdout",
     "output_type": "stream",
     "text": [
      "4905.0\n"
     ]
    },
    {
     "data": {
      "text/plain": [
       "True"
      ]
     },
     "execution_count": 30,
     "metadata": {},
     "output_type": "execute_result"
    }
   ],
   "source": [
    "e_potentielle_limite(50,10,6000)"
   ]
  },
  {
   "cell_type": "code",
   "execution_count": 64,
   "id": "073537d8-7ec2-474f-803c-c3b761c8ca27",
   "metadata": {},
   "outputs": [
    {
     "name": "stdout",
     "output_type": "stream",
     "text": [
      "[0, 1, 1, 2, 3, 5, 8, 13, 21, 34, 55, 89, 144, 233, 377, 610, 987, 1597]\n"
     ]
    }
   ],
   "source": [
    "def fibonacci(n):\n",
    "    a=0\n",
    "    b=1\n",
    "    Fib=[a]\n",
    "    while a<n:\n",
    "        a,b=b,a+b\n",
    "        Fib.append(a)\n",
    "    return Fib\n",
    "print(fibonacci(1000))"
   ]
  },
  {
   "cell_type": "code",
   "execution_count": 47,
   "id": "bbe3185f-312a-4fbe-9292-fb2edb0d72f0",
   "metadata": {},
   "outputs": [
    {
     "name": "stdout",
     "output_type": "stream",
     "text": [
      "non\n"
     ]
    }
   ],
   "source": [
    "villes=['Paris','Madrid','Amsterdam','Berlin','Londres','Bruxelles','Rome']\n",
    "if 'Belfast' in villes:\n",
    "    print('oui')\n",
    "else:\n",
    "    print('non')"
   ]
  },
  {
   "cell_type": "code",
   "execution_count": 49,
   "id": "53cd6da5-fec3-432e-83b0-fb9be06a3221",
   "metadata": {},
   "outputs": [
    {
     "name": "stdout",
     "output_type": "stream",
     "text": [
      "0 Paris\n",
      "1 Madrid\n",
      "2 Amsterdam\n",
      "3 Berlin\n",
      "4 Londres\n",
      "5 Bruxelles\n",
      "6 Rome\n"
     ]
    }
   ],
   "source": [
    "for index,i in enumerate(villes):\n",
    "    print(index,i)"
   ]
  },
  {
   "cell_type": "code",
   "execution_count": 50,
   "id": "1c3ae7a2-69db-4b10-ac3f-e71cad6ae658",
   "metadata": {},
   "outputs": [
    {
     "name": "stdout",
     "output_type": "stream",
     "text": [
      "Paris 0\n",
      "Madrid 10\n",
      "Amsterdam 20\n",
      "Berlin 30\n",
      "Londres 40\n",
      "Bruxelles 50\n"
     ]
    }
   ],
   "source": [
    "liste_2=[0,10,20,30,40,50]\n",
    "for a,b in zip(villes,liste_2):\n",
    "    print(a,b)"
   ]
  },
  {
   "cell_type": "code",
   "execution_count": 1,
   "id": "755d8cec-1180-4003-bbd8-8ee71c4cbb78",
   "metadata": {},
   "outputs": [
    {
     "name": "stdout",
     "output_type": "stream",
     "text": [
      "[0, 1, 4, 9, 16, 25, 36, 49, 64, 81]\n"
     ]
    }
   ],
   "source": [
    "liste_3=[]\n",
    "for i in range(10):\n",
    "    liste_3.append(i**2)\n",
    "print(liste_3)"
   ]
  },
  {
   "cell_type": "code",
   "execution_count": 6,
   "id": "0fcf2ecd-fc6b-44dd-a799-e26b3a39d33d",
   "metadata": {},
   "outputs": [
    {
     "data": {
      "text/plain": [
       "[0, 1, 4, 9, 16, 25, 36, 49, 64, 81]"
      ]
     },
     "execution_count": 6,
     "metadata": {},
     "output_type": "execute_result"
    }
   ],
   "source": [
    "liste_4=[i**2 for i in range(10)]\n",
    "liste_4"
   ]
  },
  {
   "cell_type": "code",
   "execution_count": 7,
   "id": "3aa1c061-e9a6-46fe-a581-a7109316c803",
   "metadata": {},
   "outputs": [
    {
     "data": {
      "text/plain": [
       "[[0, 1], [0, 1], [0, 1]]"
      ]
     },
     "execution_count": 7,
     "metadata": {},
     "output_type": "execute_result"
    }
   ],
   "source": [
    "liste_5=[[i for i in range(2)]for j in range(3)]\n",
    "liste_5"
   ]
  },
  {
   "cell_type": "code",
   "execution_count": 8,
   "id": "b3c2c459-554d-4975-af40-2824d5cf431a",
   "metadata": {},
   "outputs": [],
   "source": [
    "dictionnaire={'0':'Pierre',\n",
    "              '1':'Jean',\n",
    "              '2':'Julie',\n",
    "              '3':'Sophie'}"
   ]
  },
  {
   "cell_type": "code",
   "execution_count": 9,
   "id": "37e340b2-81d3-4e61-90b6-5c77f4c53bc7",
   "metadata": {},
   "outputs": [],
   "source": [
    "prenoms=['Pierre','Jean','Julie','Sophie']"
   ]
  },
  {
   "cell_type": "code",
   "execution_count": 10,
   "id": "2d398648-bbf3-4628-9f72-d21c35b78b2b",
   "metadata": {},
   "outputs": [
    {
     "name": "stdout",
     "output_type": "stream",
     "text": [
      "{0: 'Pierre', 1: 'Jean', 2: 'Julie', 3: 'Sophie'}\n"
     ]
    }
   ],
   "source": [
    "dico={k:v for k,v in enumerate(prenoms)}\n",
    "print(dico)"
   ]
  },
  {
   "cell_type": "code",
   "execution_count": 11,
   "id": "bc47b23c-3732-4768-8c90-c6621f6d6f13",
   "metadata": {},
   "outputs": [
    {
     "data": {
      "text/plain": [
       "dict_values(['Pierre', 'Jean', 'Julie', 'Sophie'])"
      ]
     },
     "execution_count": 11,
     "metadata": {},
     "output_type": "execute_result"
    }
   ],
   "source": [
    "dico.values()"
   ]
  },
  {
   "cell_type": "code",
   "execution_count": 12,
   "id": "ea3f4b94-bb4e-451d-b1ce-4d341d929c82",
   "metadata": {},
   "outputs": [],
   "source": [
    "ages=[24,62,10,23]"
   ]
  },
  {
   "cell_type": "code",
   "execution_count": 15,
   "id": "d4c1b5ba-abbc-43df-8acd-cd26a8bf4057",
   "metadata": {},
   "outputs": [
    {
     "data": {
      "text/plain": [
       "{'Jean': 62}"
      ]
     },
     "execution_count": 15,
     "metadata": {},
     "output_type": "execute_result"
    }
   ],
   "source": [
    "dico_2={prenom:age for prenom,age in zip(prenoms, ages) if age>30}\n",
    "dico_2"
   ]
  },
  {
   "cell_type": "markdown",
   "id": "39b42ea6-b494-4dad-b617-d3108ee8cf5f",
   "metadata": {},
   "source": [
    "##TUPLE"
   ]
  },
  {
   "cell_type": "code",
   "execution_count": 17,
   "id": "f70cd8ee-0260-4556-b392-75a0e762787a",
   "metadata": {},
   "outputs": [
    {
     "data": {
      "text/plain": [
       "(0, 1, 4, 9, 16, 25, 36, 49, 64, 81)"
      ]
     },
     "execution_count": 17,
     "metadata": {},
     "output_type": "execute_result"
    }
   ],
   "source": [
    "tuple_1=tuple((i**2 for i in range(10)))\n",
    "tuple_1"
   ]
  },
  {
   "cell_type": "markdown",
   "id": "3c222760-1eb7-4f98-9f4c-786d7ff42e36",
   "metadata": {},
   "source": [
    "EXERCICES"
   ]
  },
  {
   "cell_type": "code",
   "execution_count": 25,
   "id": "b5413aab-fa33-4d09-9049-50e29a81fbf5",
   "metadata": {},
   "outputs": [],
   "source": [
    "classeur={\n",
    "    \"positif\":[],\n",
    "    \"negatif\":[],\n",
    "}"
   ]
  },
  {
   "cell_type": "code",
   "execution_count": 26,
   "id": "af316bd2-2ded-497b-a8dc-2dfde3c962b1",
   "metadata": {},
   "outputs": [],
   "source": [
    "def trier(classeur,nombre):\n",
    "    if nombre>=0:\n",
    "        classeur['positif'].append(nombre)\n",
    "    else:\n",
    "        classeur['negatif'].append(nombre)\n",
    "    return classeur\n",
    "        "
   ]
  },
  {
   "cell_type": "code",
   "execution_count": 27,
   "id": "b1fc7b74-bd45-4746-85e1-32c7e7ab9087",
   "metadata": {},
   "outputs": [
    {
     "data": {
      "text/plain": [
       "{'positif': [], 'negatif': [-2]}"
      ]
     },
     "execution_count": 27,
     "metadata": {},
     "output_type": "execute_result"
    }
   ],
   "source": [
    "trier(classeur,-2)"
   ]
  },
  {
   "cell_type": "code",
   "execution_count": 32,
   "id": "9d2901eb-fae6-4ac3-8a35-ea0c371ae87b",
   "metadata": {},
   "outputs": [
    {
     "name": "stdout",
     "output_type": "stream",
     "text": [
      "{0: 0, 1: 1, 2: 4, 3: 9, 4: 16, 5: 25, 6: 36, 7: 49, 8: 64, 9: 81, 10: 100, 11: 121, 12: 144, 13: 169, 14: 196, 15: 225, 16: 256, 17: 289, 18: 324, 19: 361}\n"
     ]
    }
   ],
   "source": [
    "tuple_3=tuple((k**2 for k in range(20)))\n",
    "dico3={k:v for k,v in enumerate(tuple_3)}\n",
    "print(dico3)"
   ]
  },
  {
   "cell_type": "code",
   "execution_count": null,
   "id": "4a6e669e-3f6d-4444-8cf6-f98d02c93f5c",
   "metadata": {},
   "outputs": [],
   "source": []
  }
 ],
 "metadata": {
  "kernelspec": {
   "display_name": "Python [conda env:base] *",
   "language": "python",
   "name": "conda-base-py"
  },
  "language_info": {
   "codemirror_mode": {
    "name": "ipython",
    "version": 3
   },
   "file_extension": ".py",
   "mimetype": "text/x-python",
   "name": "python",
   "nbconvert_exporter": "python",
   "pygments_lexer": "ipython3",
   "version": "3.13.5"
  }
 },
 "nbformat": 4,
 "nbformat_minor": 5
}
