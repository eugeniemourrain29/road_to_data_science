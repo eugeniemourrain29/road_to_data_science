{
 "cells": [
  {
   "cell_type": "code",
   "execution_count": 2,
   "id": "599869bd-a06b-467d-91eb-468952d2459d",
   "metadata": {},
   "outputs": [],
   "source": [
    "import pandas as pd\n",
    "import numpy as np\n",
    "import math\n",
    "import random\n",
    "import statistics\n",
    "import os\n",
    "import glob"
   ]
  },
  {
   "cell_type": "code",
   "execution_count": 3,
   "id": "a7b3e3a2-3f46-4f16-a162-74cfe7784935",
   "metadata": {},
   "outputs": [],
   "source": [
    "def sign(x):\n",
    "    if (x>0):\n",
    "        print(x,'positif')\n",
    "    elif x == 0:\n",
    "        print(x,'null')\n",
    "    else:\n",
    "        print(x,'negetif')"
   ]
  },
  {
   "cell_type": "code",
   "execution_count": 4,
   "id": "2ea9e3bd-4bcf-40f1-937f-9f2a7a9d162a",
   "metadata": {},
   "outputs": [
    {
     "name": "stdout",
     "output_type": "stream",
     "text": [
      "10 positif\n",
      "9 positif\n",
      "8 positif\n",
      "7 positif\n",
      "6 positif\n",
      "5 positif\n",
      "4 positif\n",
      "3 positif\n",
      "2 positif\n",
      "1 positif\n",
      "0 null\n",
      "-1 negetif\n",
      "-2 negetif\n",
      "-3 negetif\n",
      "-4 negetif\n",
      "-5 negetif\n",
      "-6 negetif\n",
      "-7 negetif\n",
      "-8 negetif\n",
      "-9 negetif\n"
     ]
    }
   ],
   "source": [
    "for i in range (10,-10,-1):\n",
    "    sign(i)"
   ]
  },
  {
   "cell_type": "code",
   "execution_count": 5,
   "id": "b7a08055-c503-4831-beb1-c8c9c103964d",
   "metadata": {},
   "outputs": [
    {
     "name": "stdout",
     "output_type": "stream",
     "text": [
      "0\n",
      "1\n",
      "2\n",
      "3\n",
      "4\n",
      "5\n",
      "6\n",
      "7\n",
      "8\n",
      "9\n"
     ]
    }
   ],
   "source": [
    "x=0\n",
    "while x<10:\n",
    "    print(x)\n",
    "    x+=1"
   ]
  },
  {
   "cell_type": "code",
   "execution_count": 6,
   "id": "ebf5d4d9-a1a3-4c45-86a6-2689762b60b3",
   "metadata": {},
   "outputs": [],
   "source": [
    "def e_potentielle_limite(masse,hauteur,limite,g=9.81):\n",
    "    E= masse* hauteur* g\n",
    "    print(E)\n",
    "    return E<limite"
   ]
  },
  {
   "cell_type": "code",
   "execution_count": null,
   "id": "17aa6a23-b816-4f3d-88e5-acb234c01852",
   "metadata": {},
   "outputs": [],
   "source": []
  },
  {
   "cell_type": "code",
   "execution_count": 7,
   "id": "0b3cafd1-fb5a-4962-aef4-80cb85ebb296",
   "metadata": {},
   "outputs": [
    {
     "name": "stdout",
     "output_type": "stream",
     "text": [
      "4905.0\n"
     ]
    },
    {
     "data": {
      "text/plain": [
       "True"
      ]
     },
     "execution_count": 7,
     "metadata": {},
     "output_type": "execute_result"
    }
   ],
   "source": [
    "e_potentielle_limite(50,10,6000)"
   ]
  },
  {
   "cell_type": "code",
   "execution_count": 8,
   "id": "073537d8-7ec2-474f-803c-c3b761c8ca27",
   "metadata": {},
   "outputs": [
    {
     "name": "stdout",
     "output_type": "stream",
     "text": [
      "[0, 1, 1, 2, 3, 5, 8, 13, 21, 34, 55, 89, 144, 233, 377, 610, 987, 1597]\n"
     ]
    }
   ],
   "source": [
    "def fibonacci(n):\n",
    "    a=0\n",
    "    b=1\n",
    "    Fib=[a]\n",
    "    while a<n:\n",
    "        a,b=b,a+b\n",
    "        Fib.append(a)\n",
    "    return Fib\n",
    "print(fibonacci(1000))"
   ]
  },
  {
   "cell_type": "code",
   "execution_count": 9,
   "id": "bbe3185f-312a-4fbe-9292-fb2edb0d72f0",
   "metadata": {},
   "outputs": [
    {
     "name": "stdout",
     "output_type": "stream",
     "text": [
      "non\n"
     ]
    }
   ],
   "source": [
    "villes=['Paris','Madrid','Amsterdam','Berlin','Londres','Bruxelles','Rome']\n",
    "if 'Belfast' in villes:\n",
    "    print('oui')\n",
    "else:\n",
    "    print('non')"
   ]
  },
  {
   "cell_type": "code",
   "execution_count": 10,
   "id": "53cd6da5-fec3-432e-83b0-fb9be06a3221",
   "metadata": {},
   "outputs": [
    {
     "name": "stdout",
     "output_type": "stream",
     "text": [
      "0 Paris\n",
      "1 Madrid\n",
      "2 Amsterdam\n",
      "3 Berlin\n",
      "4 Londres\n",
      "5 Bruxelles\n",
      "6 Rome\n"
     ]
    }
   ],
   "source": [
    "for index,i in enumerate(villes):\n",
    "    print(index,i)"
   ]
  },
  {
   "cell_type": "code",
   "execution_count": 11,
   "id": "1c3ae7a2-69db-4b10-ac3f-e71cad6ae658",
   "metadata": {},
   "outputs": [
    {
     "name": "stdout",
     "output_type": "stream",
     "text": [
      "Paris 0\n",
      "Madrid 10\n",
      "Amsterdam 20\n",
      "Berlin 30\n",
      "Londres 40\n",
      "Bruxelles 50\n"
     ]
    }
   ],
   "source": [
    "liste_2=[0,10,20,30,40,50]\n",
    "for a,b in zip(villes,liste_2):\n",
    "    print(a,b)"
   ]
  },
  {
   "cell_type": "code",
   "execution_count": 12,
   "id": "755d8cec-1180-4003-bbd8-8ee71c4cbb78",
   "metadata": {},
   "outputs": [
    {
     "name": "stdout",
     "output_type": "stream",
     "text": [
      "[0, 1, 4, 9, 16, 25, 36, 49, 64, 81]\n"
     ]
    }
   ],
   "source": [
    "liste_3=[]\n",
    "for i in range(10):\n",
    "    liste_3.append(i**2)\n",
    "print(liste_3)"
   ]
  },
  {
   "cell_type": "code",
   "execution_count": 13,
   "id": "0fcf2ecd-fc6b-44dd-a799-e26b3a39d33d",
   "metadata": {},
   "outputs": [
    {
     "data": {
      "text/plain": [
       "[0, 1, 4, 9, 16, 25, 36, 49, 64, 81]"
      ]
     },
     "execution_count": 13,
     "metadata": {},
     "output_type": "execute_result"
    }
   ],
   "source": [
    "liste_4=[i**2 for i in range(10)]\n",
    "liste_4"
   ]
  },
  {
   "cell_type": "code",
   "execution_count": 14,
   "id": "3aa1c061-e9a6-46fe-a581-a7109316c803",
   "metadata": {},
   "outputs": [
    {
     "data": {
      "text/plain": [
       "[[0, 1], [0, 1], [0, 1]]"
      ]
     },
     "execution_count": 14,
     "metadata": {},
     "output_type": "execute_result"
    }
   ],
   "source": [
    "liste_5=[[i for i in range(2)]for j in range(3)]\n",
    "liste_5"
   ]
  },
  {
   "cell_type": "code",
   "execution_count": 15,
   "id": "b3c2c459-554d-4975-af40-2824d5cf431a",
   "metadata": {},
   "outputs": [],
   "source": [
    "dictionnaire={'0':'Pierre',\n",
    "              '1':'Jean',\n",
    "              '2':'Julie',\n",
    "              '3':'Sophie'}"
   ]
  },
  {
   "cell_type": "code",
   "execution_count": 16,
   "id": "37e340b2-81d3-4e61-90b6-5c77f4c53bc7",
   "metadata": {},
   "outputs": [],
   "source": [
    "prenoms=['Pierre','Jean','Julie','Sophie']"
   ]
  },
  {
   "cell_type": "code",
   "execution_count": 17,
   "id": "2d398648-bbf3-4628-9f72-d21c35b78b2b",
   "metadata": {},
   "outputs": [
    {
     "name": "stdout",
     "output_type": "stream",
     "text": [
      "{0: 'Pierre', 1: 'Jean', 2: 'Julie', 3: 'Sophie'}\n"
     ]
    }
   ],
   "source": [
    "dico={k:v for k,v in enumerate(prenoms)}\n",
    "print(dico)"
   ]
  },
  {
   "cell_type": "code",
   "execution_count": 18,
   "id": "bc47b23c-3732-4768-8c90-c6621f6d6f13",
   "metadata": {},
   "outputs": [
    {
     "data": {
      "text/plain": [
       "dict_values(['Pierre', 'Jean', 'Julie', 'Sophie'])"
      ]
     },
     "execution_count": 18,
     "metadata": {},
     "output_type": "execute_result"
    }
   ],
   "source": [
    "dico.values()"
   ]
  },
  {
   "cell_type": "code",
   "execution_count": 19,
   "id": "ea3f4b94-bb4e-451d-b1ce-4d341d929c82",
   "metadata": {},
   "outputs": [],
   "source": [
    "ages=[24,62,10,23]"
   ]
  },
  {
   "cell_type": "code",
   "execution_count": 20,
   "id": "d4c1b5ba-abbc-43df-8acd-cd26a8bf4057",
   "metadata": {},
   "outputs": [
    {
     "data": {
      "text/plain": [
       "{'Jean': 62}"
      ]
     },
     "execution_count": 20,
     "metadata": {},
     "output_type": "execute_result"
    }
   ],
   "source": [
    "dico_2={prenom:age for prenom,age in zip(prenoms, ages) if age>30}\n",
    "dico_2"
   ]
  },
  {
   "cell_type": "markdown",
   "id": "39b42ea6-b494-4dad-b617-d3108ee8cf5f",
   "metadata": {},
   "source": [
    "##TUPLE"
   ]
  },
  {
   "cell_type": "code",
   "execution_count": 21,
   "id": "f70cd8ee-0260-4556-b392-75a0e762787a",
   "metadata": {},
   "outputs": [
    {
     "data": {
      "text/plain": [
       "(0, 1, 4, 9, 16, 25, 36, 49, 64, 81)"
      ]
     },
     "execution_count": 21,
     "metadata": {},
     "output_type": "execute_result"
    }
   ],
   "source": [
    "tuple_1=tuple((i**2 for i in range(10)))\n",
    "tuple_1"
   ]
  },
  {
   "cell_type": "markdown",
   "id": "3c222760-1eb7-4f98-9f4c-786d7ff42e36",
   "metadata": {},
   "source": [
    "EXERCICES"
   ]
  },
  {
   "cell_type": "code",
   "execution_count": 22,
   "id": "b5413aab-fa33-4d09-9049-50e29a81fbf5",
   "metadata": {},
   "outputs": [],
   "source": [
    "classeur={\n",
    "    \"positif\":[],\n",
    "    \"negatif\":[],\n",
    "}"
   ]
  },
  {
   "cell_type": "code",
   "execution_count": 23,
   "id": "af316bd2-2ded-497b-a8dc-2dfde3c962b1",
   "metadata": {},
   "outputs": [],
   "source": [
    "def trier(classeur,nombre):\n",
    "    if nombre>=0:\n",
    "        classeur['positif'].append(nombre)\n",
    "    else:\n",
    "        classeur['negatif'].append(nombre)\n",
    "    return classeur\n",
    "        "
   ]
  },
  {
   "cell_type": "code",
   "execution_count": 24,
   "id": "b1fc7b74-bd45-4746-85e1-32c7e7ab9087",
   "metadata": {},
   "outputs": [
    {
     "data": {
      "text/plain": [
       "{'positif': [], 'negatif': [-2]}"
      ]
     },
     "execution_count": 24,
     "metadata": {},
     "output_type": "execute_result"
    }
   ],
   "source": [
    "trier(classeur,-2)"
   ]
  },
  {
   "cell_type": "code",
   "execution_count": 25,
   "id": "9d2901eb-fae6-4ac3-8a35-ea0c371ae87b",
   "metadata": {},
   "outputs": [
    {
     "name": "stdout",
     "output_type": "stream",
     "text": [
      "{0: 0, 1: 1, 2: 4, 3: 9, 4: 16, 5: 25, 6: 36, 7: 49, 8: 64, 9: 81, 10: 100, 11: 121, 12: 144, 13: 169, 14: 196, 15: 225, 16: 256, 17: 289, 18: 324, 19: 361}\n"
     ]
    }
   ],
   "source": [
    "tuple_3=tuple((k**2 for k in range(20)))\n",
    "dico3={k:v for k,v in enumerate(tuple_3)}\n",
    "print(dico3)"
   ]
  },
  {
   "cell_type": "code",
   "execution_count": 26,
   "id": "4a6e669e-3f6d-4444-8cf6-f98d02c93f5c",
   "metadata": {},
   "outputs": [
    {
     "name": "stdout",
     "output_type": "stream",
     "text": [
      "La température est de 30 degC à Paris\n"
     ]
    }
   ],
   "source": [
    "x=30\n",
    "ville='Paris'\n",
    "message=\"La température est de {} degC à {}\".format(x,ville)\n",
    "print(message)\n"
   ]
  },
  {
   "cell_type": "code",
   "execution_count": 27,
   "id": "2aea4f19-7e92-4163-bcd6-57076b12618a",
   "metadata": {},
   "outputs": [],
   "source": [
    "f=open('fichier.txt','w')"
   ]
  },
  {
   "cell_type": "code",
   "execution_count": 28,
   "id": "3ccc8a7a-31e1-4835-8a41-dc6d8ec8f3f0",
   "metadata": {},
   "outputs": [],
   "source": [
    "f.write('bonjour')\n",
    "f.close()"
   ]
  },
  {
   "cell_type": "code",
   "execution_count": 29,
   "id": "d5059b74-b218-4146-b3e6-c8e1d16b5b63",
   "metadata": {},
   "outputs": [
    {
     "name": "stdout",
     "output_type": "stream",
     "text": [
      "bonjour\n"
     ]
    }
   ],
   "source": [
    "f=open('fichier.txt','r')\n",
    "print(f.read())\n",
    "f.close()"
   ]
  },
  {
   "cell_type": "code",
   "execution_count": 30,
   "id": "17fd950b-528f-4e7d-8660-efd7146fde10",
   "metadata": {},
   "outputs": [],
   "source": [
    "with open('fichier.txt','w') as f:\n",
    "    for i in range(10):\n",
    "        f.write(\"{}^2= {}\\n\".format(i,i**2))"
   ]
  },
  {
   "cell_type": "code",
   "execution_count": 31,
   "id": "a7287488-990b-4839-8650-e38d367dd982",
   "metadata": {},
   "outputs": [],
   "source": [
    "#correction dictionnaire Carrés\n",
    "carres_pairs={str(k):k**2 for k in range(0,20)}"
   ]
  },
  {
   "cell_type": "code",
   "execution_count": 32,
   "id": "da536484-7227-4fbd-b6f8-cf352c978008",
   "metadata": {},
   "outputs": [
    {
     "name": "stdout",
     "output_type": "stream",
     "text": [
      "0.8444218515250481\n"
     ]
    }
   ],
   "source": [
    "random.seed(0)\n",
    "print(random.random())"
   ]
  },
  {
   "cell_type": "code",
   "execution_count": 33,
   "id": "ecd0adaa-3f61-4d8b-96a1-086c5d67f259",
   "metadata": {},
   "outputs": [
    {
     "name": "stdout",
     "output_type": "stream",
     "text": [
      "8\n"
     ]
    }
   ],
   "source": [
    "print(random.randint(5,10))"
   ]
  },
  {
   "cell_type": "code",
   "execution_count": 34,
   "id": "53a7f1aa-c85c-4299-914f-bcab1ad6b59f",
   "metadata": {},
   "outputs": [
    {
     "name": "stdout",
     "output_type": "stream",
     "text": [
      "5\n"
     ]
    }
   ],
   "source": [
    "print(random.randrange(100))"
   ]
  },
  {
   "cell_type": "code",
   "execution_count": 35,
   "id": "1c4e6dd2-6f63-492a-b0f8-c19a4f3ef223",
   "metadata": {},
   "outputs": [
    {
     "name": "stdout",
     "output_type": "stream",
     "text": [
      "[33, 65, 62, 51, 38, 61, 45, 74, 27, 64]\n"
     ]
    }
   ],
   "source": [
    "print(random.sample(range(100),10))"
   ]
  },
  {
   "cell_type": "code",
   "execution_count": 36,
   "id": "5aa3878c-db1e-48e0-98eb-7c5d24178a6b",
   "metadata": {},
   "outputs": [
    {
     "name": "stdout",
     "output_type": "stream",
     "text": [
      "[36, 17]\n"
     ]
    }
   ],
   "source": [
    "print(random.sample(range(100),random.randrange(10)))"
   ]
  },
  {
   "cell_type": "code",
   "execution_count": 37,
   "id": "9c8649f1-4b3e-4667-9051-e496bebb251f",
   "metadata": {},
   "outputs": [],
   "source": [
    "random.shuffle(prenoms)"
   ]
  },
  {
   "cell_type": "code",
   "execution_count": 38,
   "id": "550d74ed-9f21-44df-b116-2b0f87350d22",
   "metadata": {},
   "outputs": [
    {
     "data": {
      "text/plain": [
       "<function nt.getcwd()>"
      ]
     },
     "execution_count": 38,
     "metadata": {},
     "output_type": "execute_result"
    }
   ],
   "source": [
    "os.getcwd ##operationg system"
   ]
  },
  {
   "cell_type": "code",
   "execution_count": 39,
   "id": "7b743a8b-4088-46db-8c53-80faa386dbad",
   "metadata": {},
   "outputs": [
    {
     "name": "stdout",
     "output_type": "stream",
     "text": [
      "{'fichier.txt': ['0^2= 0', '1^2= 1', '2^2= 4', '3^2= 9', '4^2= 16', '5^2= 25', '6^2= 36', '7^2= 49', '8^2= 64', '9^2= 81']}\n"
     ]
    }
   ],
   "source": [
    "filenames= glob.glob(\"*.txt\")\n",
    "d={}\n",
    "for file in filenames:\n",
    "    with open(file,'r') as f:\n",
    "        d[file]=f.read().splitlines()\n",
    "print(d)"
   ]
  },
  {
   "cell_type": "code",
   "execution_count": 40,
   "id": "71f471d9-e71f-403b-a23a-be4a4b288993",
   "metadata": {},
   "outputs": [
    {
     "data": {
      "text/plain": [
       "['0^2= 0',\n",
       " '1^2= 1',\n",
       " '2^2= 4',\n",
       " '3^2= 9',\n",
       " '4^2= 16',\n",
       " '5^2= 25',\n",
       " '6^2= 36',\n",
       " '7^2= 49',\n",
       " '8^2= 64',\n",
       " '9^2= 81']"
      ]
     },
     "execution_count": 40,
     "metadata": {},
     "output_type": "execute_result"
    }
   ],
   "source": [
    "with open('fichier.txt','r') as f:\n",
    "    liste=f.read().splitlines()\n",
    "liste"
   ]
  },
  {
   "cell_type": "code",
   "execution_count": 41,
   "id": "ed8de63d-94aa-4bda-aeab-0f0f92e5fef1",
   "metadata": {},
   "outputs": [
    {
     "data": {
      "text/plain": [
       "['0^2= 0',\n",
       " '1^2= 1',\n",
       " '2^2= 4',\n",
       " '3^2= 9',\n",
       " '4^2= 16',\n",
       " '5^2= 25',\n",
       " '6^2= 36',\n",
       " '7^2= 49',\n",
       " '8^2= 64',\n",
       " '9^2= 81']"
      ]
     },
     "execution_count": 41,
     "metadata": {},
     "output_type": "execute_result"
    }
   ],
   "source": [
    "liste=[line.strip() for line in open('fichier.txt','r')]\n",
    "liste"
   ]
  },
  {
   "cell_type": "markdown",
   "id": "2f2df80c-b609-447c-88cc-2fbc923d19c7",
   "metadata": {},
   "source": [
    "NUMPY"
   ]
  },
  {
   "cell_type": "code",
   "execution_count": 42,
   "id": "623d7fba-3696-4584-bcd2-cb3d949fcfe0",
   "metadata": {},
   "outputs": [],
   "source": [
    "A=np.array([1,2,3])\n",
    "A=A.reshape((A.shape[0],1))\n",
    "##pour annuler le 1 dans le shape, A=A.squeezee()"
   ]
  },
  {
   "cell_type": "code",
   "execution_count": 43,
   "id": "9c3620ef-ea0b-4214-8b99-df4c43f4681c",
   "metadata": {},
   "outputs": [
    {
     "data": {
      "text/plain": [
       "(3, 1)"
      ]
     },
     "execution_count": 43,
     "metadata": {},
     "output_type": "execute_result"
    }
   ],
   "source": [
    "A.shape"
   ]
  },
  {
   "cell_type": "code",
   "execution_count": 44,
   "id": "8973e4bc-5f71-495c-a0f4-075b1aab359c",
   "metadata": {},
   "outputs": [],
   "source": [
    "B=np.zeros((3,))\n",
    "type(B.shape)\n",
    "B=B.reshape((B.shape[0],1))"
   ]
  },
  {
   "cell_type": "code",
   "execution_count": 45,
   "id": "6b6f8e69-fed6-4b7a-a248-e0a9a575e84f",
   "metadata": {},
   "outputs": [
    {
     "data": {
      "text/plain": [
       "array([[1., 1., 1., 1.],\n",
       "       [1., 1., 1., 1.],\n",
       "       [1., 1., 1., 1.]])"
      ]
     },
     "execution_count": 45,
     "metadata": {},
     "output_type": "execute_result"
    }
   ],
   "source": [
    "C=np.ones((3,4))\n",
    "C"
   ]
  },
  {
   "cell_type": "code",
   "execution_count": 46,
   "id": "ea1dd3f1-d877-43c8-88b5-09b920db5965",
   "metadata": {},
   "outputs": [
    {
     "data": {
      "text/plain": [
       "array([[ 1.76405235,  0.40015721,  0.97873798,  2.2408932 ],\n",
       "       [ 1.86755799, -0.97727788,  0.95008842, -0.15135721],\n",
       "       [-0.10321885,  0.4105985 ,  0.14404357,  1.45427351]])"
      ]
     },
     "execution_count": 46,
     "metadata": {},
     "output_type": "execute_result"
    }
   ],
   "source": [
    "##randn les nombres déterminés par random sont distribués selon la distribution normale\n",
    "##seed fixe les nombres choisis\n",
    "np.random.seed(0)\n",
    "np.random.randn(3,4)"
   ]
  },
  {
   "cell_type": "code",
   "execution_count": 47,
   "id": "c5ab3dd7-65dc-4c67-916f-45f3d7fd6632",
   "metadata": {},
   "outputs": [
    {
     "data": {
      "text/plain": [
       "array([[1., 0., 0., 0.],\n",
       "       [0., 1., 0., 0.],\n",
       "       [0., 0., 1., 0.],\n",
       "       [0., 0., 0., 1.]])"
      ]
     },
     "execution_count": 47,
     "metadata": {},
     "output_type": "execute_result"
    }
   ],
   "source": [
    "np.eye(4)"
   ]
  },
  {
   "cell_type": "code",
   "execution_count": 48,
   "id": "eff928e2-3343-4f2f-b946-d4025e4abd7e",
   "metadata": {},
   "outputs": [
    {
     "data": {
      "text/plain": [
       "array([ 0,  3,  6,  9, 12, 15, 18, 21, 24, 27, 30, 33])"
      ]
     },
     "execution_count": 48,
     "metadata": {},
     "output_type": "execute_result"
    }
   ],
   "source": [
    "##20 points allant de 0 à 10\n",
    "np.linspace(0,10,20,dtype=np.float16)\n",
    "##nombres de 0 à 34 avec un pas de 3\n",
    "np.arange(0,34,3)"
   ]
  },
  {
   "cell_type": "code",
   "execution_count": 49,
   "id": "6533c08d-16d5-40aa-9c5a-a79d044eeab1",
   "metadata": {},
   "outputs": [
    {
     "data": {
      "text/plain": [
       "array([[1., 0.],\n",
       "       [2., 0.],\n",
       "       [3., 0.]])"
      ]
     },
     "execution_count": 49,
     "metadata": {},
     "output_type": "execute_result"
    }
   ],
   "source": [
    "##on concatenne deux matrices\n",
    "D=np.hstack((A,B))\n",
    "D"
   ]
  },
  {
   "cell_type": "code",
   "execution_count": 50,
   "id": "172273d8-7584-4c23-9831-9ea9be855fd5",
   "metadata": {},
   "outputs": [
    {
     "data": {
      "text/plain": [
       "array([[1.],\n",
       "       [2.],\n",
       "       [3.],\n",
       "       [0.],\n",
       "       [0.],\n",
       "       [0.]])"
      ]
     },
     "execution_count": 50,
     "metadata": {},
     "output_type": "execute_result"
    }
   ],
   "source": [
    "E=np.vstack((A,B))\n",
    "E"
   ]
  },
  {
   "cell_type": "code",
   "execution_count": 51,
   "id": "9b937a08-d202-45b0-8d78-1ed67ad3df7a",
   "metadata": {},
   "outputs": [
    {
     "data": {
      "text/plain": [
       "array([[1., 2.],\n",
       "       [3., 0.],\n",
       "       [0., 0.]])"
      ]
     },
     "execution_count": 51,
     "metadata": {},
     "output_type": "execute_result"
    }
   ],
   "source": [
    "##même résultat que vstack (axis=0) et hstack(axis=1), et permet de travailler en 3 dimenssions\n",
    "F=np.concatenate((A,B),axis=0)\n",
    "##remaniement matrices\n",
    "F=F.reshape((3,2))\n",
    "F"
   ]
  },
  {
   "cell_type": "code",
   "execution_count": 52,
   "id": "98f0fa13-c782-46f5-bcd4-5e7850f83aaa",
   "metadata": {},
   "outputs": [
    {
     "data": {
      "text/plain": [
       "array([[1., 2.],\n",
       "       [3., 0.],\n",
       "       [0., 0.]])"
      ]
     },
     "execution_count": 52,
     "metadata": {},
     "output_type": "execute_result"
    }
   ],
   "source": [
    "#applatir tableau à une seule dimenssion\n",
    "F.ravel().shape\n",
    "F"
   ]
  },
  {
   "cell_type": "code",
   "execution_count": 53,
   "id": "65a683c4-d784-479e-9af6-60e50542325e",
   "metadata": {},
   "outputs": [],
   "source": [
    "#m nombre de lignes\n",
    "#n nombre de colonnes\n",
    "#retourne une matrice aléatoire (m,n+1)\n",
    "#avec une colonne biais (remplie de \"1\") tout à droite\n",
    "def initialisation(m,n):\n",
    "\n",
    "    return"
   ]
  },
  {
   "cell_type": "code",
   "execution_count": 54,
   "id": "e94f40e5-cf2e-4125-be22-58c7b5f68296",
   "metadata": {},
   "outputs": [
    {
     "data": {
      "text/plain": [
       "np.float64(1.0)"
      ]
     },
     "execution_count": 54,
     "metadata": {},
     "output_type": "execute_result"
    }
   ],
   "source": [
    "F[0,0]"
   ]
  },
  {
   "cell_type": "code",
   "execution_count": 55,
   "id": "e767dd79-5fbd-4389-a8e2-2acfeff96326",
   "metadata": {},
   "outputs": [
    {
     "data": {
      "text/plain": [
       "array([1., 2.])"
      ]
     },
     "execution_count": 55,
     "metadata": {},
     "output_type": "execute_result"
    }
   ],
   "source": [
    "#Montre la première ligne et toutes les colonnes\n",
    "F[0,:]"
   ]
  },
  {
   "cell_type": "code",
   "execution_count": 56,
   "id": "116e210e-5a48-4cd8-b02a-19a7031edc70",
   "metadata": {},
   "outputs": [
    {
     "data": {
      "text/plain": [
       "array([[1., 2.],\n",
       "       [3., 2.],\n",
       "       [0., 2.]])"
      ]
     },
     "execution_count": 56,
     "metadata": {},
     "output_type": "execute_result"
    }
   ],
   "source": [
    "#Transformer tableau, ici toute la colonne 1\n",
    "F[:,1:]=2\n",
    "F"
   ]
  },
  {
   "cell_type": "code",
   "execution_count": 57,
   "id": "f83acb5e-eb53-44c8-917a-8866fd27e764",
   "metadata": {},
   "outputs": [
    {
     "data": {
      "text/plain": [
       "array([[0., 0., 0., 0.],\n",
       "       [0., 0., 0., 0.],\n",
       "       [0., 0., 0., 0.],\n",
       "       [0., 0., 0., 0.]])"
      ]
     },
     "execution_count": 57,
     "metadata": {},
     "output_type": "execute_result"
    }
   ],
   "source": [
    "B=np.zeros((4,4))\n",
    "B"
   ]
  },
  {
   "cell_type": "code",
   "execution_count": 58,
   "id": "1abdd224-6aa3-4b1a-b833-b14dd4d29601",
   "metadata": {},
   "outputs": [
    {
     "data": {
      "text/plain": [
       "array([[0., 0., 0., 0.],\n",
       "       [0., 1., 1., 0.],\n",
       "       [0., 1., 1., 0.],\n",
       "       [0., 0., 0., 0.]])"
      ]
     },
     "execution_count": 58,
     "metadata": {},
     "output_type": "execute_result"
    }
   ],
   "source": [
    "B[1:3,1:3]=1\n",
    "B"
   ]
  },
  {
   "cell_type": "code",
   "execution_count": 59,
   "id": "ad50c099-8458-4c8e-827f-e9b5ff6f7fa2",
   "metadata": {},
   "outputs": [
    {
     "data": {
      "text/plain": [
       "array([[0., 0., 0., 0., 0.],\n",
       "       [0., 0., 0., 0., 0.],\n",
       "       [0., 0., 0., 0., 0.],\n",
       "       [0., 0., 0., 0., 0.],\n",
       "       [0., 0., 0., 0., 0.]])"
      ]
     },
     "execution_count": 59,
     "metadata": {},
     "output_type": "execute_result"
    }
   ],
   "source": [
    "C=np.zeros((5,5))\n",
    "C"
   ]
  },
  {
   "cell_type": "code",
   "execution_count": 60,
   "id": "9b116473-23bc-411f-a107-7b230220e4e9",
   "metadata": {},
   "outputs": [
    {
     "data": {
      "text/plain": [
       "array([[1., 0., 1., 0., 1.],\n",
       "       [0., 0., 0., 0., 0.],\n",
       "       [1., 0., 1., 0., 1.],\n",
       "       [0., 0., 0., 0., 0.],\n",
       "       [1., 0., 1., 0., 1.]])"
      ]
     },
     "execution_count": 60,
     "metadata": {},
     "output_type": "execute_result"
    }
   ],
   "source": [
    "#toutes les valeurs avec un pas de 2\n",
    "C[::2,::2]=1\n",
    "C"
   ]
  },
  {
   "cell_type": "code",
   "execution_count": 61,
   "id": "c5567c93-2a81-489c-9ac6-950923fc5827",
   "metadata": {},
   "outputs": [
    {
     "data": {
      "text/plain": [
       "array([[8, 1, 5, 9, 8],\n",
       "       [9, 4, 3, 0, 3],\n",
       "       [5, 0, 2, 3, 8],\n",
       "       [1, 3, 3, 3, 7],\n",
       "       [0, 1, 9, 9, 0]], dtype=int32)"
      ]
     },
     "execution_count": 61,
     "metadata": {},
     "output_type": "execute_result"
    }
   ],
   "source": [
    "#Boolean Indexing\n",
    "A=np.random.randint(0,10,[5,5])\n",
    "A"
   ]
  },
  {
   "cell_type": "code",
   "execution_count": 62,
   "id": "1476236e-989c-4f8c-94ca-e5ce35dd3a24",
   "metadata": {},
   "outputs": [
    {
     "data": {
      "text/plain": [
       "array([[False,  True, False, False, False],\n",
       "       [False,  True,  True,  True,  True],\n",
       "       [False,  True,  True,  True, False],\n",
       "       [ True,  True,  True,  True, False],\n",
       "       [ True,  True, False, False,  True]])"
      ]
     },
     "execution_count": 62,
     "metadata": {},
     "output_type": "execute_result"
    }
   ],
   "source": [
    "A<5"
   ]
  },
  {
   "cell_type": "code",
   "execution_count": 63,
   "id": "3f7eba12-487f-4bcf-872a-ec950a9048c6",
   "metadata": {},
   "outputs": [
    {
     "data": {
      "text/plain": [
       "array([[ 8,  1,  5,  9,  8],\n",
       "       [ 9, 10, 10,  0, 10],\n",
       "       [ 5,  0,  2, 10,  8],\n",
       "       [ 1, 10, 10, 10,  7],\n",
       "       [ 0,  1,  9,  9,  0]], dtype=int32)"
      ]
     },
     "execution_count": 63,
     "metadata": {},
     "output_type": "execute_result"
    }
   ],
   "source": [
    "A[(A<5)&(A>2)]=10\n",
    "A"
   ]
  },
  {
   "cell_type": "code",
   "execution_count": 64,
   "id": "b67f333d-7747-4a17-93f0-913c334792ee",
   "metadata": {},
   "outputs": [
    {
     "data": {
      "text/plain": [
       "(8,)"
      ]
     },
     "execution_count": 64,
     "metadata": {},
     "output_type": "execute_result"
    }
   ],
   "source": [
    "#nb elements inf à 5\n",
    "A[A<5].shape"
   ]
  },
  {
   "cell_type": "code",
   "execution_count": 65,
   "id": "8ef6894a-409f-40df-9d70-42eb8998c6bb",
   "metadata": {},
   "outputs": [
    {
     "data": {
      "text/plain": [
       "array([ 0.6536186 ,  1.53277921,  0.37816252, -0.88778575,  0.15634897,\n",
       "       -1.04855297, -1.42001794, -0.50965218])"
      ]
     },
     "execution_count": 65,
     "metadata": {},
     "output_type": "execute_result"
    }
   ],
   "source": [
    "#insérer des élements de A dans B\n",
    "B=np.random.randn(5,5)\n",
    "B[A<5]"
   ]
  },
  {
   "cell_type": "code",
   "execution_count": 68,
   "id": "73ee7eeb-7693-436e-af9e-970f5527ba32",
   "metadata": {},
   "outputs": [
    {
     "ename": "AttributeError",
     "evalue": "module 'scipy.misc' has no attribute 'face'",
     "output_type": "error",
     "traceback": [
      "\u001b[1;31m---------------------------------------------------------------------------\u001b[0m",
      "\u001b[1;31mAttributeError\u001b[0m                            Traceback (most recent call last)",
      "Cell \u001b[1;32mIn[68], line 3\u001b[0m\n\u001b[0;32m      1\u001b[0m \u001b[38;5;28;01mfrom\u001b[39;00m\u001b[38;5;250m \u001b[39m\u001b[38;5;21;01mscipy\u001b[39;00m\u001b[38;5;250m \u001b[39m\u001b[38;5;28;01mimport\u001b[39;00m misc\n\u001b[0;32m      2\u001b[0m \u001b[38;5;28;01mimport\u001b[39;00m\u001b[38;5;250m \u001b[39m\u001b[38;5;21;01mmatplotlib\u001b[39;00m\u001b[38;5;21;01m.\u001b[39;00m\u001b[38;5;21;01mpyplot\u001b[39;00m\u001b[38;5;250m \u001b[39m\u001b[38;5;28;01mas\u001b[39;00m\u001b[38;5;250m \u001b[39m\u001b[38;5;21;01mplt\u001b[39;00m\n\u001b[1;32m----> 3\u001b[0m face\u001b[38;5;241m=\u001b[39mmisc\u001b[38;5;241m.\u001b[39mface()\n\u001b[0;32m      4\u001b[0m plt\u001b[38;5;241m.\u001b[39mimshow(face)\n\u001b[0;32m      5\u001b[0m plt\u001b[38;5;241m.\u001b[39mshow()\n",
      "\u001b[1;31mAttributeError\u001b[0m: module 'scipy.misc' has no attribute 'face'"
     ]
    }
   ],
   "source": [
    "from scipy import misc\n",
    "import matplotlib.pyplot as plt\n",
    "face=misc.face()\n",
    "plt.imshow(face)\n",
    "plt.show()\n",
    "type(face)"
   ]
  },
  {
   "cell_type": "code",
   "execution_count": null,
   "id": "07ad006f-de05-4de3-a35a-545b4afbeeb7",
   "metadata": {},
   "outputs": [],
   "source": []
  }
 ],
 "metadata": {
  "kernelspec": {
   "display_name": "Python [conda env:base] *",
   "language": "python",
   "name": "conda-base-py"
  },
  "language_info": {
   "codemirror_mode": {
    "name": "ipython",
    "version": 3
   },
   "file_extension": ".py",
   "mimetype": "text/x-python",
   "name": "python",
   "nbconvert_exporter": "python",
   "pygments_lexer": "ipython3",
   "version": "3.13.5"
  }
 },
 "nbformat": 4,
 "nbformat_minor": 5
}
